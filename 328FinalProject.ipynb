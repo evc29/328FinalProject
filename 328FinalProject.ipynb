{
 "cells": [
  {
   "cell_type": "markdown",
   "metadata": {},
   "source": [
    "# CS 328 Final Project\n",
    "by: Eva Choudhury, Addie Padhi, Alisha Patil"
   ]
  },
  {
   "cell_type": "markdown",
   "metadata": {},
   "source": [
    "## Imports Section"
   ]
  },
  {
   "cell_type": "code",
   "execution_count": 92,
   "metadata": {},
   "outputs": [],
   "source": [
    "import os\n",
    "import pandas as pd\n",
    "import numpy as np\n",
    "from scipy.signal import butter, filtfilt\n",
    "from sklearn.model_selection import train_test_split\n",
    "from sklearn.ensemble import RandomForestClassifier\n",
    "from sklearn.metrics import confusion_matrix, ConfusionMatrixDisplay, classification_report\n",
    "import matplotlib.pyplot as plt\n",
    "import seaborn as sns\n",
    "import glob\n"
   ]
  },
  {
   "cell_type": "markdown",
   "metadata": {},
   "source": [
    "## Preprocessing Data and Filtering "
   ]
  },
  {
   "cell_type": "code",
   "execution_count": 93,
   "metadata": {},
   "outputs": [],
   "source": [
    "WINDOW_SIZE = 5  # in seconds\n",
    "SAMPLE_RATE = 100  # Hz \n",
    "SAMPLES_PER_WINDOW = 200\n",
    "\n",
    "def calc_magnitude(df):\n",
    "    df['accel_mag'] = np.sqrt(df['x']**2 + df['y']**2 + df['z']**2)\n",
    "    df['accel_mag'] -= df['accel_mag'].mean()\n",
    "    return df\n",
    "\n",
    "def remove_noise(df, sample_rate=SAMPLE_RATE):\n",
    "    b, a = butter(N=2, Wn=5/(sample_rate/2), btype='low')\n",
    "    df['filtered_mag'] = filtfilt(b, a, df['accel_mag'])\n",
    "    return df"
   ]
  },
  {
   "cell_type": "code",
   "execution_count": 94,
   "metadata": {},
   "outputs": [],
   "source": [
    "def preprocess_all_files():\n",
    "    all_windows = []  \n",
    "\n",
    "    for root, _, files in os.walk(\"data\"):\n",
    "        for fname in files:\n",
    "            if not fname.endswith(\".csv\"):\n",
    "                continue\n",
    "\n",
    "            path = os.path.join(root, fname)\n",
    "            df = pd.read_csv(path)\n",
    "\n",
    "            df = calc_magnitude(df)\n",
    "            df = remove_noise(df)\n",
    "\n",
    "            label = os.path.basename(root).lower()\n",
    "            samples_per_window = 200  \n",
    "\n",
    "            for start in range(0, len(df) - samples_per_window + 1, samples_per_window):\n",
    "                window = df.iloc[start:start + samples_per_window].copy()\n",
    "                window[\"window_id\"] = len(all_windows)\n",
    "                window[\"label\"] = label\n",
    "                window[\"source_file\"] = fname\n",
    "                all_windows.append(window)\n",
    "\n",
    "    if not all_windows:\n",
    "        raise ValueError(\"no data was processed into windows\")\n",
    "\n",
    "    combined_df = pd.concat(all_windows, ignore_index=True)\n",
    "    return combined_df\n",
    "\n",
    "\n",
    "combined_df = preprocess_all_files() "
   ]
  },
  {
   "cell_type": "markdown",
   "metadata": {},
   "source": [
    "# Feature Extraction "
   ]
  },
  {
   "cell_type": "code",
   "execution_count": 95,
   "metadata": {},
   "outputs": [
    {
     "name": "stdout",
     "output_type": "stream",
     "text": [
      "     window_id      mean       std       min       max       q25       q75  \\\n",
      "0            0 -0.234512  1.165589 -1.948184  2.842849 -1.242521  0.676883   \n",
      "1            1  0.334043  2.075350 -2.052507  8.462702 -1.209414  1.202556   \n",
      "2            2 -0.564617  1.061081 -2.120607  2.116998 -1.420965  0.199372   \n",
      "3            3  0.271722  1.027496 -1.672942  3.859845 -0.412537  0.739323   \n",
      "4            4  0.650907  1.157403 -1.070952  3.577605 -0.409943  1.525664   \n",
      "..         ...       ...       ...       ...       ...       ...       ...   \n",
      "614        614 -0.136856  2.068618 -2.804055  3.790189 -1.796972  1.766148   \n",
      "615        615 -0.081981  2.335238 -3.280305  6.101502 -2.110845  1.580252   \n",
      "616        616 -0.223807  1.812223 -2.879773  3.332827 -1.818358  1.485937   \n",
      "617        617  0.153934  2.440224 -3.173545  4.360758 -2.138896  2.502296   \n",
      "618        618 -0.295548  2.342442 -3.457322  4.706578 -2.194617  1.462221   \n",
      "\n",
      "          label          source_file  \n",
      "0    downstairs  eva-downstairs1.csv  \n",
      "1    downstairs  eva-downstairs1.csv  \n",
      "2    downstairs  eva-downstairs1.csv  \n",
      "3    downstairs  eva-downstairs1.csv  \n",
      "4    downstairs  eva-downstairs1.csv  \n",
      "..          ...                  ...  \n",
      "614    walk-mod    eva-walk-mod2.csv  \n",
      "615    walk-mod    eva-walk-mod2.csv  \n",
      "616    walk-mod    eva-walk-mod2.csv  \n",
      "617    walk-mod    eva-walk-mod2.csv  \n",
      "618    walk-mod    eva-walk-mod2.csv  \n",
      "\n",
      "[619 rows x 9 columns]\n"
     ]
    }
   ],
   "source": [
    "def extract_features_from_windows(df):\n",
    "    grouped = df.groupby(\"window_id\")\n",
    "    features = []\n",
    "\n",
    "    for window_id, window in grouped:\n",
    "        stats = {\n",
    "            'window_id': window_id,\n",
    "            'mean': window['filtered_mag'].mean(),\n",
    "            'std': window['filtered_mag'].std(),\n",
    "            'min': window['filtered_mag'].min(),\n",
    "            'max': window['filtered_mag'].max(),\n",
    "            'q25': window['filtered_mag'].quantile(0.25),\n",
    "            'q75': window['filtered_mag'].quantile(0.75),\n",
    "            'label': window['label'].iloc[0],\n",
    "            'source_file': window['source_file'].iloc[0]\n",
    "        }\n",
    "        features.append(stats)\n",
    "    \n",
    "    features_df = pd.DataFrame(features)\n",
    "    features_df.to_csv(\"features_for_model.csv\", index=False)\n",
    "    return features_df\n",
    "\n",
    "# extract features\n",
    "features_df = extract_features_from_windows(combined_df)\n",
    "print(features_df)\n"
   ]
  },
  {
   "cell_type": "markdown",
   "metadata": {},
   "source": [
    "# Modeling and Evaluation"
   ]
  },
  {
   "cell_type": "code",
   "execution_count": 101,
   "metadata": {},
   "outputs": [
    {
     "name": "stdout",
     "output_type": "stream",
     "text": [
      "Label counts:\n",
      " label\n",
      "walk-fast     96\n",
      "upstairs      94\n",
      "walk-slow     94\n",
      "sitting       90\n",
      "walk-mod      89\n",
      "lying         61\n",
      "falls         32\n",
      "jogging       32\n",
      "downstairs    31\n",
      "Name: count, dtype: int64\n",
      "Classification Report:\n",
      "               precision    recall  f1-score   support\n",
      "\n",
      "           0       1.00      1.00      1.00       118\n",
      "           1       1.00      1.00      1.00         6\n",
      "\n",
      "    accuracy                           1.00       124\n",
      "   macro avg       1.00      1.00      1.00       124\n",
      "weighted avg       1.00      1.00      1.00       124\n",
      "\n"
     ]
    },
    {
     "data": {
      "image/png": "[encoded data removed]",
      "text/plain": [
       "<Figure size 640x480 with 2 Axes>"
      ]
     },
     "metadata": {},
     "output_type": "display_data"
    },
    {
     "data": {
      "image/png": "[encoded data removed]",
      "text/plain": [
       "<Figure size 1000x500 with 1 Axes>"
      ]
     },
     "metadata": {},
     "output_type": "display_data"
    }
   ],
   "source": [
    "features_df = pd.read_csv(\"features_for_model.csv\")\n",
    "print(\"Label counts:\\n\", features_df[\"label\"].value_counts())\n",
    "\n",
    "features_df[\"label\"] = features_df[\"label\"].map(lambda x: \"fall\" if x == \"falls\" else \"non-fall\")\n",
    "\n",
    "\n",
    "features_df = features_df.dropna()\n",
    "\n",
    "X = features_df.drop(columns=[\"label\", \"window_id\", \"source_file\"])\n",
    "y = features_df[\"label\"].map({'fall': 1, 'non-fall': 0})\n",
    "\n",
    "\n",
    "X_train, X_test, y_train, y_test = train_test_split(\n",
    "    X, y, test_size=0.2, random_state=42, stratify=y\n",
    ")\n",
    "\n",
    "\n",
    "model = RandomForestClassifier(random_state=42)\n",
    "model.fit(X_train, y_train)\n",
    "y_pred = model.predict(X_test)\n",
    "\n",
    "\n",
    "print(\"Classification Report:\\n\", classification_report(y_test, y_pred))\n",
    "\n",
    "cm = confusion_matrix(y_test, y_pred)\n",
    "sns.heatmap(cm, annot=True, fmt='d', cmap='viridis',\n",
    "            xticklabels=[\"non-fall\", \"fall\"],\n",
    "            yticklabels=[\"non-fall\", \"fall\"])\n",
    "plt.title(\"Confusion Matrix\")\n",
    "plt.xlabel(\"Predicted label\")\n",
    "plt.ylabel(\"True label\")\n",
    "plt.show()\n",
    "\n",
    "\n",
    "importances = model.feature_importances_\n",
    "feature_names = X_train.columns\n",
    "\n",
    "plt.figure(figsize=(10, 5))\n",
    "plt.bar(feature_names, importances)\n",
    "plt.title(\"Feature Importances\")\n",
    "plt.xlabel(\"Feature\")\n",
    "plt.ylabel(\"Importance\")\n",
    "plt.xticks(rotation=45)\n",
    "plt.tight_layout()\n",
    "plt.show()\n"
   ]
  }
 ],
 "metadata": {
  "kernelspec": {
   "display_name": "Python 3",
   "language": "python",
   "name": "python3"
  },
  "language_info": {
   "codemirror_mode": {
    "name": "ipython",
    "version": 3
   },
   "file_extension": ".py",
   "mimetype": "text/x-python",
   "name": "python",
   "nbconvert_exporter": "python",
   "pygments_lexer": "ipython3",
   "version": "3.13.1"
  }
 },
 "nbformat": 4,
 "nbformat_minor": 2
}
