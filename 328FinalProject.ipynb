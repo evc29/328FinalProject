{
 "cells": [
  {
   "cell_type": "markdown",
   "metadata": {},
   "source": [
    "# CS 328 Final Project\n",
    "by: Eva Choudhury, Addie Padhi, Alisha Patil"
   ]
  },
  {
   "cell_type": "markdown",
   "metadata": {},
   "source": [
    "## Imports Section"
   ]
  },
  {
   "cell_type": "code",
   "execution_count": 1,
   "metadata": {},
   "outputs": [],
   "source": [
    "import os\n",
    "import pandas as pd\n",
    "import numpy as np\n",
    "from scipy.signal import butter, filtfilt\n",
    "from sklearn.model_selection import train_test_split\n",
    "from sklearn.ensemble import RandomForestClassifier\n",
    "from sklearn.metrics import confusion_matrix, ConfusionMatrixDisplay, classification_report\n",
    "import matplotlib.pyplot as plt\n",
    "import seaborn as sns\n",
    "import glob\n"
   ]
  },
  {
   "cell_type": "markdown",
   "metadata": {},
   "source": [
    "## Preprocessing Data and Filtering "
   ]
  },
  {
   "cell_type": "code",
   "execution_count": 2,
   "metadata": {},
   "outputs": [],
   "source": [
    "WINDOW_SIZE = 5  # in seconds\n",
    "SAMPLE_RATE = 100  # Hz \n",
    "SAMPLES_PER_WINDOW = 200\n",
    "\n",
    "def calc_magnitude(df):\n",
    "    df['accel_mag'] = np.sqrt(df['x']**2 + df['y']**2 + df['z']**2)\n",
    "    df['accel_mag'] -= df['accel_mag'].mean()\n",
    "    return df\n",
    "\n",
    "def remove_noise(df, sample_rate=SAMPLE_RATE):\n",
    "    b, a = butter(N=2, Wn=5/(sample_rate/2), btype='low')\n",
    "    df['filtered_mag'] = filtfilt(b, a, df['accel_mag'])\n",
    "    return df"
   ]
  },
  {
   "cell_type": "code",
   "execution_count": 3,
   "metadata": {},
   "outputs": [],
   "source": [
    "def preprocess_all_files():\n",
    "    all_windows = []  \n",
    "\n",
    "    for root, _, files in os.walk(\"data\"):\n",
    "        for fname in files:\n",
    "            if not fname.endswith(\".csv\"):\n",
    "                continue\n",
    "\n",
    "            path = os.path.join(root, fname)\n",
    "            df = pd.read_csv(path)\n",
    "\n",
    "            df = calc_magnitude(df)\n",
    "            df = remove_noise(df)\n",
    "\n",
    "            #plot\n",
    "            # plt.figure(figsize=(10, 4))\n",
    "            # plt.plot(df['accel_mag'], label='Raw Magnitude', alpha=0.6)\n",
    "            # plt.plot(df['filtered_mag'], label='Filtered Magnitude', linewidth=2)\n",
    "            # plt.title(f\"Acceleration Magnitude: {fname}\")\n",
    "            # plt.xlabel(\"Sample Index\")\n",
    "            # plt.ylabel(\"Acceleration (m/s²)\")\n",
    "            # plt.legend()\n",
    "            # plt.tight_layout()\n",
    "            # plt.show()\n",
    "\n",
    "            label = os.path.basename(root).lower()\n",
    "            samples_per_window = 200 \n",
    "\n",
    "            for start in range(0, len(df) - samples_per_window + 1, samples_per_window):\n",
    "                window = df.iloc[start:start + samples_per_window].copy()\n",
    "                window[\"window_id\"] = len(all_windows)\n",
    "                window[\"label\"] = label\n",
    "                window[\"source_file\"] = fname\n",
    "                all_windows.append(window)\n",
    "\n",
    "    if not all_windows:\n",
    "        raise ValueError(\"no data was processed into windows\")\n",
    "\n",
    "    combined_df = pd.concat(all_windows, ignore_index=True)\n",
    "    return combined_df\n",
    "\n",
    "combined_df = preprocess_all_files()"
   ]
  },
  {
   "cell_type": "markdown",
   "metadata": {},
   "source": [
    "# Feature Extraction "
   ]
  },
  {
   "cell_type": "code",
   "execution_count": 4,
   "metadata": {},
   "outputs": [
    {
     "name": "stdout",
     "output_type": "stream",
     "text": [
      "      window_id      mean       std       min        max       q25       q75  \\\n",
      "0             0  1.290804  2.430083 -4.064783   6.008592 -0.210513  3.308357   \n",
      "1             1 -1.112792  1.344458 -4.206432   1.009925 -2.254042 -0.087781   \n",
      "2             2 -0.510144  1.276674 -3.094978   2.186208 -1.513976  0.522823   \n",
      "3             3 -0.771318  1.482467 -4.078321   2.609255 -1.491498  0.170327   \n",
      "4             4 -0.601190  1.566836 -3.340550   3.366469 -1.696656  0.368716   \n",
      "...         ...       ...       ...       ...        ...       ...       ...   \n",
      "2647       2647 -1.506938  3.127877 -5.291604   6.263867 -4.257684 -0.338925   \n",
      "2648       2648  0.832963  2.271657 -4.706330   5.766190 -0.407669  2.348943   \n",
      "2649       2649 -0.706710  4.347161 -6.662409  10.535968 -4.045505  2.708105   \n",
      "2650       2650  1.511203  3.004178 -5.606460   7.750051 -0.432374  3.688103   \n",
      "2651       2651 -1.710088  3.520734 -7.136564   6.367229 -4.893950  1.007565   \n",
      "\n",
      "          label            source_file  \n",
      "0     walk-fast  alisha-walk-fast1.csv  \n",
      "1     walk-fast  alisha-walk-fast1.csv  \n",
      "2     walk-fast  alisha-walk-fast1.csv  \n",
      "3     walk-fast  alisha-walk-fast1.csv  \n",
      "4     walk-fast  alisha-walk-fast1.csv  \n",
      "...         ...                    ...  \n",
      "2647    jogging    alisha-jogging3.csv  \n",
      "2648    jogging    alisha-jogging3.csv  \n",
      "2649    jogging    alisha-jogging3.csv  \n",
      "2650    jogging    alisha-jogging3.csv  \n",
      "2651    jogging    alisha-jogging3.csv  \n",
      "\n",
      "[2652 rows x 9 columns]\n"
     ]
    }
   ],
   "source": [
    "def extract_features_from_windows(df):\n",
    "    grouped = df.groupby(\"window_id\")\n",
    "    features = []\n",
    "\n",
    "    for window_id, window in grouped:\n",
    "        stats = {\n",
    "            'window_id': window_id,\n",
    "            'mean': window['filtered_mag'].mean(),\n",
    "            'std': window['filtered_mag'].std(),\n",
    "            'min': window['filtered_mag'].min(),\n",
    "            'max': window['filtered_mag'].max(),\n",
    "            'q25': window['filtered_mag'].quantile(0.25),\n",
    "            'q75': window['filtered_mag'].quantile(0.75),\n",
    "            'label': window['label'].iloc[0],\n",
    "            'source_file': window['source_file'].iloc[0]\n",
    "        }\n",
    "        features.append(stats)\n",
    "    \n",
    "    features_df = pd.DataFrame(features)\n",
    "    features_df.to_csv(\"features_for_model.csv\", index=False)\n",
    "    return features_df\n",
    "\n",
    "# extract features\n",
    "features_df = extract_features_from_windows(combined_df)\n",
    "print(features_df)\n"
   ]
  },
  {
   "cell_type": "markdown",
   "metadata": {},
   "source": [
    "# Modeling and Evaluation"
   ]
  },
  {
   "cell_type": "code",
   "execution_count": 5,
   "metadata": {},
   "outputs": [
    {
     "name": "stdout",
     "output_type": "stream",
     "text": [
      "Label counts:\n",
      " label\n",
      "lying         276\n",
      "walk-fast     275\n",
      "standing      275\n",
      "walk-slow     273\n",
      "downstairs    272\n",
      "upstairs      271\n",
      "walk-mod      269\n",
      "sitting       269\n",
      "jogging       258\n",
      "falls         214\n",
      "Name: count, dtype: int64\n",
      "Classification Report:\n",
      "               precision    recall  f1-score   support\n",
      "\n",
      "           0       0.96      0.99      0.98       488\n",
      "           1       0.81      0.58      0.68        43\n",
      "\n",
      "    accuracy                           0.95       531\n",
      "   macro avg       0.89      0.78      0.83       531\n",
      "weighted avg       0.95      0.95      0.95       531\n",
      "\n"
     ]
    },
    {
     "data": {
      "image/png": "[encoded data removed]",
      "text/plain": [
       "<Figure size 640x480 with 2 Axes>"
      ]
     },
     "metadata": {},
     "output_type": "display_data"
    },
    {
     "data": {
      "image/png": "[encoded data removed]",
      "text/plain": [
       "<Figure size 1000x500 with 1 Axes>"
      ]
     },
     "metadata": {},
     "output_type": "display_data"
    }
   ],
   "source": [
    "features_df = pd.read_csv(\"features_for_model.csv\")\n",
    "print(\"Label counts:\\n\", features_df[\"label\"].value_counts())\n",
    "\n",
    "features_df[\"label\"] = features_df[\"label\"].map(lambda x: \"fall\" if x == \"falls\" else \"non-fall\")\n",
    "\n",
    "\n",
    "features_df = features_df.dropna()\n",
    "\n",
    "X = features_df.drop(columns=[\"label\", \"window_id\", \"source_file\"])\n",
    "y = features_df[\"label\"].map({'fall': 1, 'non-fall': 0})\n",
    "\n",
    "\n",
    "X_train, X_test, y_train, y_test = train_test_split(\n",
    "    X, y, test_size=0.2, random_state=42, stratify=y\n",
    ")\n",
    "\n",
    "\n",
    "model = RandomForestClassifier(random_state=42)\n",
    "model.fit(X_train, y_train)\n",
    "y_pred = model.predict(X_test)\n",
    "\n",
    "\n",
    "print(\"Classification Report:\\n\", classification_report(y_test, y_pred))\n",
    "\n",
    "cm = confusion_matrix(y_test, y_pred)\n",
    "sns.heatmap(cm, annot=True, fmt='d', cmap='viridis',\n",
    "            xticklabels=[\"non-fall\", \"fall\"],\n",
    "            yticklabels=[\"non-fall\", \"fall\"])\n",
    "plt.title(\"Confusion Matrix\")\n",
    "plt.xlabel(\"Predicted label\")\n",
    "plt.ylabel(\"True label\")\n",
    "plt.show()\n",
    "\n",
    "\n",
    "importances = model.feature_importances_\n",
    "feature_names = X_train.columns\n",
    "\n",
    "plt.figure(figsize=(10, 5))\n",
    "plt.bar(feature_names, importances)\n",
    "plt.title(\"Feature Importances\")\n",
    "plt.xlabel(\"Feature\")\n",
    "plt.ylabel(\"Importance\")\n",
    "plt.xticks(rotation=45)\n",
    "plt.tight_layout()\n",
    "plt.show()\n"
   ]
  }
 ],
 "metadata": {
  "kernelspec": {
   "display_name": "Python 3",
   "language": "python",
   "name": "python3"
  },
  "language_info": {
   "codemirror_mode": {
    "name": "ipython",
    "version": 3
   },
   "file_extension": ".py",
   "mimetype": "text/x-python",
   "name": "python",
   "nbconvert_exporter": "python",
   "pygments_lexer": "ipython3",
   "version": "3.12.1"
  }
 },
 "nbformat": 4,
 "nbformat_minor": 2
}
